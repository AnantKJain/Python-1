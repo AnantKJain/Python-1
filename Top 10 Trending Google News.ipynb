{
 "cells": [
  {
   "cell_type": "code",
   "execution_count": 1,
   "metadata": {},
   "outputs": [],
   "source": [
    "from GoogleNews import GoogleNews"
   ]
  },
  {
   "cell_type": "code",
   "execution_count": 2,
   "metadata": {},
   "outputs": [],
   "source": [
    "googleNews = GoogleNews()"
   ]
  },
  {
   "cell_type": "code",
   "execution_count": 3,
   "metadata": {},
   "outputs": [],
   "source": [
    "googleNews = GoogleNews(period='7d')"
   ]
  },
  {
   "cell_type": "code",
   "execution_count": 4,
   "metadata": {},
   "outputs": [],
   "source": [
    "googleNews.search('INDIA')"
   ]
  },
  {
   "cell_type": "code",
   "execution_count": 5,
   "metadata": {},
   "outputs": [],
   "source": [
    "result = googleNews.result()"
   ]
  },
  {
   "cell_type": "code",
   "execution_count": 6,
   "metadata": {},
   "outputs": [
    {
     "name": "stdout",
     "output_type": "stream",
     "text": [
      "----------\n",
      "Title-> COVID-19 Live Updates: India sees record 4,120 deaths in ...\n",
      "Time-> 12 mins ago\n",
      "Description-> India added 3,62,727 new coronavirus infections in a day taking the COVID-19 tally of cases to 2,37,03,665, while the death toll rose to 2,58,317 with 4,120 daily ...\n",
      "Link-> https://in.news.yahoo.com/covid-19-live-blog-india-virus-spreading-into-rural-areas-045853929.html\n",
      "----------\n",
      "Title-> India Very Good At Creating \"Sideshows\", Australia Got ...\n",
      "Time-> 19 mins ago\n",
      "Description-> Australia captain Tim Paine said his side got distracted by India's \"sideshows\" during the home Test series earlier this year. Ajay Pal Singh; Updated: May 13, 2021 ...\n",
      "Link-> https://sports.ndtv.com/cricket/india-very-good-at-creating-sideshows-australia-got-distracted-by-them-in-test-series-down-under-tim-paine-2440729\n",
      "----------\n",
      "Title-> Race for getting a slot in India's vaccination drive exposes ...\n",
      "Time-> 48 mins ago\n",
      "Description-> Numerous Indian states are also struggling with vaccine shortages, meaning there are limited slots available for the up to 600 million people in the 18-44 cohort ...\n",
      "Link-> https://www.livemint.com/news/india/race-for-getting-a-slot-in-india-s-vaccination-drive-exposes-digital-divide-11620882216430.html\n",
      "----------\n",
      "Title-> Coronavirus LIVE: India's Fresh Covid Fatalities Cross Grim ...\n",
      "Time-> 52 mins ago\n",
      "Description-> Coronavirus LIVE: India's Fresh Covid Fatalities Cross Grim Mark Of 4,000 Deaths; 3,62,727 New Cases Reported. By: ABP News Bureau13 May 2021 11:07 AM ( ...\n",
      "Link-> https://news.abplive.com/news/india/coronavirus-live-updates-covid-19-restrictions-lockdown-news-cases-today-may-13-1458086\n",
      "----------\n",
      "Title-> India's prized investment grade status hanging by a thread\n",
      "Time-> 57 mins ago\n",
      "Description-> India's devastating COVID-19 crisis is making investors question more than ever whether after years of debt accumulation and patchy progress on reforms, ...\n",
      "Link-> https://economictimes.indiatimes.com/news/economy/indicators/indias-prized-investment-grade-status-hanging-by-a-thread/articleshow/82596986.cms\n",
      "----------\n",
      "Title-> ICC Test rankings India remain on top of MRF Tyres ICC ...\n",
      "Time-> 1 hour ago\n",
      "Description-> India's 2-1 win over Australia and 3-1 win over England over the past year and New Zealand's 2-0 series wins over the West Indies and Pakistan have helped them ...\n",
      "Link-> https://www.icc-cricket.com/media-releases/2139111\n",
      "----------\n",
      "Title-> Battlegrounds Mobile India APK links doing the rounds are ...\n",
      "Time-> 1 hour ago\n",
      "Description-> However, the Battlegrounds Mobile India launch date is yet to be announced. We still don't know when will the game become available to download on Android ...\n",
      "Link-> https://www.91mobiles.com/hub/battlegrounds-mobile-india-apk-links-fake/\n",
      "----------\n",
      "Title-> India records 3.62 lakh fresh Covid-19 infections, 4120 deaths ...\n",
      "Time-> 1 hour ago\n",
      "Description-> On Wednesday, India's total active caseload dipped to 37,04,099, which on Thursday settled at 37,10,525, registering an increase of 6,426. The country is fighting ...\n",
      "Link-> https://www.hindustantimes.com/india-news/india-records-3-62-lakh-fresh-covid-19-infections-4-120-deaths-in-24-hours-101620874967539.html\n",
      "----------\n",
      "Title-> With over 3.62 lakh daily Covid infections, India again sees ...\n",
      "Time-> 1 hour ago\n",
      "Description-> The number of daily infections crossed daily recoveries in India with 3,62,727 new Covid cases reported in the last 24 hours. The daily recovered cases stand at ...\n",
      "Link-> https://www.indiatoday.in/coronavirus-outbreak/story/india-coronavirus-daily-cases-recoveries-deaths-1801989-2021-05-13\n",
      "----------\n",
      "Title-> Ethereum Creator Vitalik Buterin Donates $1.5 Billion In ...\n",
      "Time-> 1 hour ago\n",
      "Description-> ... creator Vitalik Buterin donates $1.5 billion in cryptocurrency to India COVID ... the time of the transaction, to India's COVID-Crypto Relief Fund, set up by Indian ...\n",
      "Link-> https://www.moneycontrol.com/news/business/ethereum-creator-vitalik-buterin-donates-1-5-billion-in-cryptocurrency-to-india-covid-relief-fund-other-charities-6886431.html\n"
     ]
    }
   ],
   "source": [
    "for x in result:\n",
    "    print(\"-\"*10)\n",
    "    print(\"Title->\",x['title'])\n",
    "    print(\"Time->\",x['date'])\n",
    "    print(\"Description->\",x['desc'])\n",
    "    print(\"Link->\",x['link'])"
   ]
  },
  {
   "cell_type": "code",
   "execution_count": null,
   "metadata": {},
   "outputs": [],
   "source": []
  }
 ],
 "metadata": {
  "kernelspec": {
   "display_name": "Python 3",
   "language": "python",
   "name": "python3"
  },
  "language_info": {
   "codemirror_mode": {
    "name": "ipython",
    "version": 3
   },
   "file_extension": ".py",
   "mimetype": "text/x-python",
   "name": "python",
   "nbconvert_exporter": "python",
   "pygments_lexer": "ipython3",
   "version": "3.8.3"
  }
 },
 "nbformat": 4,
 "nbformat_minor": 4
}
