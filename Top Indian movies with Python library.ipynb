{
 "cells": [
  {
   "cell_type": "code",
   "execution_count": 1,
   "metadata": {},
   "outputs": [],
   "source": [
    "#you need to install IMDbPY lib with cmd pip3 install IMDbPY\n",
    "import imdb"
   ]
  },
  {
   "cell_type": "code",
   "execution_count": 2,
   "metadata": {},
   "outputs": [],
   "source": [
    "i_m = imdb.IMDb()"
   ]
  },
  {
   "cell_type": "code",
   "execution_count": 3,
   "metadata": {},
   "outputs": [],
   "source": [
    "top_movies = i_m.get_top250_indian_movies()"
   ]
  },
  {
   "cell_type": "code",
   "execution_count": 6,
   "metadata": {},
   "outputs": [
    {
     "name": "stdout",
     "output_type": "stream",
     "text": [
      "Pather Panchali\n",
      "Nayakan\n",
      "Anbe Sivam\n",
      "Hanky Panky\n",
      "C/o Kancharapalem\n",
      "The World of Apu\n",
      "Drishyam 2\n",
      "Pariyerum Perumal\n",
      "Kireedam\n",
      "Natsamrat\n",
      "Manichitrathazhu\n",
      "96\n",
      "Black Friday\n",
      "Thevar Magan\n",
      "Kumbalangi Nights\n",
      "3 Idiots\n",
      "Visaaranai\n",
      "Like Stars on Earth\n",
      "Raatchasan\n",
      "Jersey\n",
      "Dangal\n",
      "Thalapathi\n",
      "Soorarai Pottru\n",
      "Aparajito\n",
      "Asuran\n"
     ]
    }
   ],
   "source": [
    "#We are only printing top 25 movies \n",
    "for i in range(25):\n",
    " print(top_movies[i])"
   ]
  },
  {
   "cell_type": "code",
   "execution_count": null,
   "metadata": {},
   "outputs": [],
   "source": []
  },
  {
   "cell_type": "code",
   "execution_count": null,
   "metadata": {},
   "outputs": [],
   "source": []
  }
 ],
 "metadata": {
  "kernelspec": {
   "display_name": "Python 3",
   "language": "python",
   "name": "python3"
  },
  "language_info": {
   "codemirror_mode": {
    "name": "ipython",
    "version": 3
   },
   "file_extension": ".py",
   "mimetype": "text/x-python",
   "name": "python",
   "nbconvert_exporter": "python",
   "pygments_lexer": "ipython3",
   "version": "3.8.3"
  }
 },
 "nbformat": 4,
 "nbformat_minor": 4
}
